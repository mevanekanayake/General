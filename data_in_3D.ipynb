{
 "cells": [
  {
   "cell_type": "code",
   "execution_count": 1,
   "metadata": {},
   "outputs": [],
   "source": [
    "import torch\n",
    "import torch.nn as nn\n",
    "from torch.utils.data import DataLoader\n",
    "from torchvision.utils import make_grid\n",
    "import torchvision.transforms.functional as F\n",
    "\n",
    "import numpy as np\n",
    "import os\n",
    "import argparse\n",
    "from pathlib import Path\n",
    "import matplotlib.pyplot as plt\n",
    "import re\n",
    "from typing import NamedTuple\n",
    "\n",
    "from utils.data import Data\n",
    "from utils.manager import set_seed, set_cuda, fetch_paths, set_logger, set_device, RunManager\n",
    "from utils.fourier import ifft2c as ift\n",
    "from utils.fourier import fft2c as ft\n",
    "from utils.math import complex_abs\n",
    "from utils.mask import apply_random_mask\n",
    "from utils.transform import Transform\n",
    "\n",
    "from models.miccan import MICCAN"
   ]
  },
  {
   "cell_type": "code",
   "execution_count": 2,
   "metadata": {},
   "outputs": [],
   "source": [
    "# ARGUMENTS\n",
    "class Arguments():\n",
    "    def __init__(self):\n",
    "        self.acc = [1, 2, 3, 4]\n",
    "        self.tnv = 20 #120\n",
    "        self.mtype = 'random'\n",
    "        self.dset = 'fastmribrain'\n",
    "        self.seq_types = [\"AXT1\", \"AXT2\", \"AXFLAIR\"]        \n",
    "        \n",
    "args = Arguments()"
   ]
  },
  {
   "cell_type": "code",
   "execution_count": 3,
   "metadata": {},
   "outputs": [],
   "source": [
    "set_seed()"
   ]
  },
  {
   "cell_type": "code",
   "execution_count": 4,
   "metadata": {},
   "outputs": [],
   "source": [
    "data_path, _ = fetch_paths(args.dset)"
   ]
  },
  {
   "cell_type": "code",
   "execution_count": 5,
   "metadata": {},
   "outputs": [
    {
     "name": "stdout",
     "output_type": "stream",
     "text": [
      "Training set: No. of volumes: 120 | No. of slices: 1874\n",
      "AXT1    : 40 | 602\n",
      "AXT2    : 40 | 636\n",
      "AXFLAIR : 40 | 636\n"
     ]
    }
   ],
   "source": [
    "train_transform = Transform(train=True, mask_type=args.mtype, accelerations=args.acc)\n",
    "train_dataset = Data(root=data_path, train=True, seq_types=args.seq_types, transform=train_transform, nv=args.tnv)\n",
    "print(f'Training set: No. of volumes: {train_dataset.num_volumes} | No. of slices: {len(train_dataset)}')\n",
    "print(f'{train_dataset.data_per_seq[:-1]}')"
   ]
  },
  {
   "cell_type": "code",
   "execution_count": 6,
   "metadata": {},
   "outputs": [],
   "source": [
    "args.bs = len(train_dataset)\n",
    "train_loader = DataLoader(dataset=train_dataset, batch_size=args.bs, num_workers=0, shuffle=True, pin_memory=True)"
   ]
  },
  {
   "cell_type": "code",
   "execution_count": 7,
   "metadata": {},
   "outputs": [
    {
     "data": {
      "text/plain": [
       "torch.Size([1874, 1, 320, 320])"
      ]
     },
     "execution_count": 7,
     "metadata": {},
     "output_type": "execute_result"
    }
   ],
   "source": [
    "batch = next(iter(train_loader))\n",
    "batch.target.shape"
   ]
  },
  {
   "cell_type": "code",
   "execution_count": 8,
   "metadata": {},
   "outputs": [
    {
     "data": {
      "text/plain": [
       "torch.Size([1874, 102400])"
      ]
     },
     "execution_count": 8,
     "metadata": {},
     "output_type": "execute_result"
    }
   ],
   "source": [
    "image = batch.target.squeeze().view(args.bs, -1)\n",
    "image.shape"
   ]
  },
  {
   "cell_type": "code",
   "execution_count": 9,
   "metadata": {},
   "outputs": [
    {
     "data": {
      "text/plain": [
       "torch.Size([1874, 3])"
      ]
     },
     "execution_count": 9,
     "metadata": {},
     "output_type": "execute_result"
    }
   ],
   "source": [
    "[U, S, V] = torch.pca_lowrank(image, q=None, center=True, niter=3)\n",
    "pcs = torch.matmul(image, V[:, :2])\n",
    "pcs.shape"
   ]
  },
  {
   "cell_type": "code",
   "execution_count": null,
   "metadata": {},
   "outputs": [],
   "source": [
    "for i in range(pcs):\n",
    "    "
   ]
  }
 ],
 "metadata": {
  "kernelspec": {
   "display_name": "Python 3 (ipykernel)",
   "language": "python",
   "name": "python3"
  },
  "language_info": {
   "codemirror_mode": {
    "name": "ipython",
    "version": 3
   },
   "file_extension": ".py",
   "mimetype": "text/x-python",
   "name": "python",
   "nbconvert_exporter": "python",
   "pygments_lexer": "ipython3",
   "version": "3.9.12"
  }
 },
 "nbformat": 4,
 "nbformat_minor": 1
}
